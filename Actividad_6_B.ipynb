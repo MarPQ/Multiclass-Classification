{
  "nbformat": 4,
  "nbformat_minor": 0,
  "metadata": {
    "colab": {
      "name": "Actividad_6_B.ipynb",
      "provenance": [],
      "collapsed_sections": []
    },
    "kernelspec": {
      "name": "python3",
      "display_name": "Python 3"
    },
    "language_info": {
      "name": "python"
    }
  },
  "cells": [
    {
      "cell_type": "code",
      "metadata": {
        "colab": {
          "base_uri": "https://localhost:8080/"
        },
        "id": "GvZf93Cupq7v",
        "outputId": "1b87e619-2b1b-493c-de7e-f3f68ecbffe1"
      },
      "source": [
        "import pandas as pd\n",
        "import numpy as np\n",
        "import matplotlib.pyplot as plt\n",
        "\n",
        "data = pd.read_csv('mnist_784.csv')\n",
        "print(data)\n",
        "\n",
        "x = np.asanyarray(data.drop(columns=['class']))\n",
        "y = np.asanyarray(data[['class']])"
      ],
      "execution_count": 1,
      "outputs": [
        {
          "output_type": "stream",
          "text": [
            "       pixel1  pixel2  pixel3  pixel4  ...  pixel782  pixel783  pixel784  class\n",
            "0           0       0       0       0  ...         0         0         0      5\n",
            "1           0       0       0       0  ...         0         0         0      0\n",
            "2           0       0       0       0  ...         0         0         0      4\n",
            "3           0       0       0       0  ...         0         0         0      1\n",
            "4           0       0       0       0  ...         0         0         0      9\n",
            "...       ...     ...     ...     ...  ...       ...       ...       ...    ...\n",
            "69995       0       0       0       0  ...         0         0         0      2\n",
            "69996       0       0       0       0  ...         0         0         0      3\n",
            "69997       0       0       0       0  ...         0         0         0      4\n",
            "69998       0       0       0       0  ...         0         0         0      5\n",
            "69999       0       0       0       0  ...         0         0         0      6\n",
            "\n",
            "[70000 rows x 785 columns]\n"
          ],
          "name": "stdout"
        }
      ]
    },
    {
      "cell_type": "code",
      "metadata": {
        "id": "2WJLctf2sUqn"
      },
      "source": [
        "from sklearn.model_selection import train_test_split\n",
        "from sklearn.pipeline import Pipeline\n",
        "from sklearn.preprocessing import StandardScaler\n",
        "from sklearn.decomposition import PCA\n",
        "from sklearn import metrics\n",
        "\n",
        "x_train, x_test, y_train, y_test = train_test_split(x,y,test_size=0.1)"
      ],
      "execution_count": 38,
      "outputs": []
    },
    {
      "cell_type": "code",
      "metadata": {
        "id": "Sd_wJH2GsNy_"
      },
      "source": [
        "def resultados (model,x_test,y_test):\n",
        "  y_pred = model.predict(x_test)\n",
        "\n",
        "  print('Metricas: \\n', metrics.classification_report(y_test,y_pred))\n",
        "  print('matriz de confusion: \\n', metrics.confusion_matrix(y_test,y_pred))"
      ],
      "execution_count": 4,
      "outputs": []
    },
    {
      "cell_type": "code",
      "metadata": {
        "id": "RdB1QgU7sfYI",
        "colab": {
          "base_uri": "https://localhost:8080/"
        },
        "outputId": "136358d2-8646-4a57-a910-8e0e36514540"
      },
      "source": [
        "from sklearn.svm import SVC\n",
        "\n",
        "model = Pipeline([('scaler', StandardScaler()),('PCA',PCA(n_components=50)),('cla',SVC(C=0.82))])\n",
        "model.fit(x_train,y_train.ravel())\n",
        "\n",
        "print('Train score: ', model.score(x_train, y_train))\n",
        "print('Test score: ', model.score(x_test, y_test))\n",
        "\n",
        "resultados(model,x_test,y_test)"
      ],
      "execution_count": 43,
      "outputs": [
        {
          "output_type": "stream",
          "text": [
            "Train score:  0.9798730158730159\n",
            "Test score:  0.973\n",
            "Metricas: \n",
            "               precision    recall  f1-score   support\n",
            "\n",
            "           0       0.98      0.99      0.99       678\n",
            "           1       0.97      0.98      0.98       771\n",
            "           2       0.97      0.98      0.97       729\n",
            "           3       0.97      0.95      0.96       740\n",
            "           4       0.98      0.98      0.98       653\n",
            "           5       0.97      0.96      0.97       594\n",
            "           6       0.98      0.99      0.99       683\n",
            "           7       0.96      0.97      0.97       744\n",
            "           8       0.98      0.96      0.97       693\n",
            "           9       0.97      0.97      0.97       715\n",
            "\n",
            "    accuracy                           0.97      7000\n",
            "   macro avg       0.97      0.97      0.97      7000\n",
            "weighted avg       0.97      0.97      0.97      7000\n",
            "\n",
            "matriz de confusion: \n",
            " [[672   0   1   0   0   0   0   1   3   1]\n",
            " [  0 758   7   2   0   1   1   2   0   0]\n",
            " [  2   2 712   3   2   0   0   7   1   0]\n",
            " [  2   5   5 702   2  10   1   4   7   2]\n",
            " [  1   2   1   0 637   0   1   1   2   8]\n",
            " [  1   1   1   8   0 572   5   3   1   2]\n",
            " [  1   2   1   0   0   2 676   0   1   0]\n",
            " [  1   4   3   1   4   0   0 724   0   7]\n",
            " [  4   4   4   5   1   2   2   1 668   2]\n",
            " [  0   3   2   2   3   0   1  12   2 690]]\n"
          ],
          "name": "stdout"
        }
      ]
    },
    {
      "cell_type": "code",
      "metadata": {
        "id": "dCYYaZDauqNb"
      },
      "source": [
        "import pickle\n",
        "#Guardando el modelo\n",
        "pickle.dump(model,open('SVM_mnist_784.sav','wb'))"
      ],
      "execution_count": 44,
      "outputs": []
    },
    {
      "cell_type": "code",
      "metadata": {
        "id": "LvPpeaDfu_Gv"
      },
      "source": [
        "import pickle\n",
        "#Cargando el modelo guardado\n",
        "model = pickle.load(open('SVM_mnist_784.sav','rb'))\n",
        "\n",
        "print('Train score: ', model.score(x_train, y_train))\n",
        "print('Test score: ', model.score(x_test, y_test))\n",
        "\n",
        "resultados(model,x_test,y_test)"
      ],
      "execution_count": null,
      "outputs": []
    },
    {
      "cell_type": "code",
      "metadata": {
        "colab": {
          "base_uri": "https://localhost:8080/"
        },
        "id": "C3A_sXjVvwk4",
        "outputId": "c8839499-fd1f-4aba-d2e3-3974766efcd9"
      },
      "source": [
        "from sklearn.neural_network import MLPClassifier\n",
        "\n",
        "model = Pipeline([('scaler', StandardScaler()),('PCA',PCA(n_components=50)),('cla',MLPClassifier(hidden_layer_sizes=(500,500),alpha=0.01,max_iter=1500))])\n",
        "model.fit(x_train,y_train.ravel())\n",
        "\n",
        "print('Train score: ', model.score(x_train, y_train))\n",
        "print('Test score: ', model.score(x_test, y_test))\n",
        "\n",
        "resultados(model,x_test,y_test)\n"
      ],
      "execution_count": 50,
      "outputs": [
        {
          "output_type": "stream",
          "text": [
            "Train score:  0.997968253968254\n",
            "Test score:  0.9801428571428571\n",
            "Metricas: \n",
            "               precision    recall  f1-score   support\n",
            "\n",
            "           0       0.99      0.99      0.99       678\n",
            "           1       0.99      0.99      0.99       771\n",
            "           2       0.98      0.96      0.97       729\n",
            "           3       0.98      0.97      0.97       740\n",
            "           4       0.98      0.99      0.99       653\n",
            "           5       0.97      0.98      0.97       594\n",
            "           6       0.98      0.99      0.99       683\n",
            "           7       0.98      0.98      0.98       744\n",
            "           8       0.97      0.97      0.97       693\n",
            "           9       0.97      0.98      0.98       715\n",
            "\n",
            "    accuracy                           0.98      7000\n",
            "   macro avg       0.98      0.98      0.98      7000\n",
            "weighted avg       0.98      0.98      0.98      7000\n",
            "\n",
            "matriz de confusion: \n",
            " [[673   0   1   0   0   0   1   0   2   1]\n",
            " [  0 763   2   1   0   0   0   2   2   1]\n",
            " [  4   2 700   6   3   0   2   6   4   2]\n",
            " [  0   0   2 718   1   9   0   2   7   1]\n",
            " [  0   0   0   0 645   1   1   0   0   6]\n",
            " [  2   1   0   2   0 582   3   0   1   3]\n",
            " [  1   1   0   0   0   2 679   0   0   0]\n",
            " [  1   3   3   1   3   1   0 726   2   4]\n",
            " [  0   1   4   4   0   4   4   0 675   1]\n",
            " [  2   1   0   1   4   2   1   2   2 700]]\n"
          ],
          "name": "stdout"
        }
      ]
    },
    {
      "cell_type": "code",
      "metadata": {
        "id": "NnKAjpMmwEb3"
      },
      "source": [
        "import pickle\n",
        "#Guardando el modelo\n",
        "pickle.dump(model,open('MLP_mnist_784.sav','wb'))"
      ],
      "execution_count": 51,
      "outputs": []
    },
    {
      "cell_type": "code",
      "metadata": {
        "id": "HJLnbyIbwLbM"
      },
      "source": [
        "import pickle\n",
        "#Cargando el modelo guardado\n",
        "model = pickle.load(open('MLP_mnist_784.sav','rb'))\n",
        "\n",
        "print('Train score: ', model.score(x_train, y_train))\n",
        "print('Test score: ', model.score(x_test, y_test))\n",
        "\n",
        "resultados(model,x_test,y_test)"
      ],
      "execution_count": null,
      "outputs": []
    }
  ]
}