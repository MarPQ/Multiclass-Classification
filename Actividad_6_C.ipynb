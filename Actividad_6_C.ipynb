{
  "nbformat": 4,
  "nbformat_minor": 0,
  "metadata": {
    "colab": {
      "name": "Actividad_6_C.ipynb",
      "provenance": [],
      "collapsed_sections": []
    },
    "kernelspec": {
      "name": "python3",
      "display_name": "Python 3"
    },
    "language_info": {
      "name": "python"
    }
  },
  "cells": [
    {
      "cell_type": "code",
      "metadata": {
        "colab": {
          "base_uri": "https://localhost:8080/",
          "height": 265
        },
        "id": "HBBRIQzZxfZ8",
        "outputId": "12bbace2-f8aa-4763-e83e-932139be27f0"
      },
      "source": [
        "import numpy as np\n",
        "import matplotlib.pyplot as plt\n",
        "import cv2\n",
        "\n",
        "img = cv2.imread('2.jpg')\n",
        "img_gray = cv2.cvtColor(img,cv2.COLOR_BGR2GRAY)\n",
        "\n",
        "th, img_bn = cv2.threshold(img_gray,100,255,cv2.THRESH_BINARY_INV)\n",
        "img_bn = cv2.resize(img_bn,(28,28))\n",
        "\n",
        "plt.imshow(img_bn,cmap=plt.cm.gray)\n",
        "plt.show()\n",
        "\n",
        "x = img_bn.reshape(1,784)"
      ],
      "execution_count": 209,
      "outputs": [
        {
          "output_type": "display_data",
          "data": {
            "image/png": "[encoded data removed]",
            "text/plain": [
              "<Figure size 432x288 with 1 Axes>"
            ]
          },
          "metadata": {
            "tags": [],
            "needs_background": "light"
          }
        }
      ]
    },
    {
      "cell_type": "code",
      "metadata": {
        "id": "s1X7krpmFQWh"
      },
      "source": [
        "import pickle\n",
        "#Cargando los modelos guardados\n",
        "SVM = pickle.load(open('SVM_mnist_784.sav','rb'))\n",
        "MLP = pickle.load(open('MLP_mnist_784.sav','rb'))\n",
        "\n",
        "y_SVM = SVM.predict(x)\n",
        "y_MLP = MLP.predict(x)"
      ],
      "execution_count": 210,
      "outputs": []
    },
    {
      "cell_type": "code",
      "metadata": {
        "colab": {
          "base_uri": "https://localhost:8080/",
          "height": 545
        },
        "id": "IP_Ym_uqFkCe",
        "outputId": "c1f737e3-2c97-41ba-e77f-c6808ed94ea4"
      },
      "source": [
        "plt.figure()\n",
        "plt.imshow(img_bn,cmap=plt.cm.gray)\n",
        "plt.title('Prediction SVM: ' + str(y_SVM))\n",
        "plt.show()\n",
        "\n",
        "plt.figure()\n",
        "plt.imshow(img_bn,cmap=plt.cm.gray)\n",
        "plt.title('Prediction MLP: ' + str(y_MLP))\n",
        "plt.show()"
      ],
      "execution_count": 211,
      "outputs": [
        {
          "output_type": "display_data",
          "data": {
            "image/png": "[encoded data removed]",
            "text/plain": [
              "<Figure size 432x288 with 1 Axes>"
            ]
          },
          "metadata": {
            "tags": [],
            "needs_background": "light"
          }
        },
        {
          "output_type": "display_data",
          "data": {
            "image/png": "[encoded data removed]",
            "text/plain": [
              "<Figure size 432x288 with 1 Axes>"
            ]
          },
          "metadata": {
            "tags": [],
            "needs_background": "light"
          }
        }
      ]
    }
  ]
}