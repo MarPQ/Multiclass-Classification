{
  "nbformat": 4,
  "nbformat_minor": 0,
  "metadata": {
    "colab": {
      "name": "Actividad_6_A.ipynb",
      "provenance": [],
      "collapsed_sections": []
    },
    "kernelspec": {
      "name": "python3",
      "display_name": "Python 3"
    },
    "language_info": {
      "name": "python"
    }
  },
  "cells": [
    {
      "cell_type": "code",
      "metadata": {
        "id": "sqV1m7krLjXo"
      },
      "source": [
        "import pandas as pd\n",
        "import numpy as np\n",
        "import matplotlib.pyplot as plt\n",
        "\n",
        "data = pd.read_csv('Sensor.csv')\n",
        "#print(data)\n",
        "\n",
        "x = np.asanyarray(data.drop(columns=['D']))\n",
        "y = np.asanyarray(data[['D']])\n",
        "#print('\\n',y)"
      ],
      "execution_count": null,
      "outputs": []
    },
    {
      "cell_type": "code",
      "metadata": {
        "id": "hoQKVX0jNTls"
      },
      "source": [
        "from sklearn.model_selection import train_test_split\n",
        "from sklearn.pipeline import Pipeline\n",
        "from sklearn.preprocessing import StandardScaler\n",
        "from sklearn import metrics\n",
        "\n",
        "x_train, x_test, y_train, y_test = train_test_split(x,y,test_size=0.1)"
      ],
      "execution_count": null,
      "outputs": []
    },
    {
      "cell_type": "code",
      "metadata": {
        "id": "caUEXy-9OE5c"
      },
      "source": [
        "def resultados (model,x_test,y_test):\n",
        "  y_pred = model.predict(x_test)\n",
        "\n",
        "  print('Metricas: \\n', metrics.classification_report(y_test,y_pred))\n",
        "  print('matriz de confusion: \\n', metrics.confusion_matrix(y_test,y_pred))"
      ],
      "execution_count": null,
      "outputs": []
    },
    {
      "cell_type": "code",
      "metadata": {
        "colab": {
          "base_uri": "https://localhost:8080/"
        },
        "id": "GNEK_4d7OvLG",
        "outputId": "c82dcefa-5b83-4806-d9ad-3a768ed7f8f3"
      },
      "source": [
        "from sklearn.svm import SVC\n",
        "\n",
        "model = Pipeline([('scaler', StandardScaler()),('cla',SVC())])\n",
        "model.fit(x_train,y_train.ravel())\n",
        "\n",
        "print('Train score: ', model.score(x_train, y_train))\n",
        "print('Test score: ', model.score(x_test, y_test))\n",
        "\n",
        "resultados(model,x_test,y_test)"
      ],
      "execution_count": null,
      "outputs": [
        {
          "output_type": "stream",
          "text": [
            "Train score:  0.9872427983539095\n",
            "Test score:  0.9777777777777777\n",
            "Metricas: \n",
            "               precision    recall  f1-score   support\n",
            "\n",
            "           0       1.00      1.00      1.00        32\n",
            "           1       1.00      0.97      0.99        35\n",
            "           2       1.00      1.00      1.00        26\n",
            "           3       0.96      1.00      0.98        25\n",
            "           4       1.00      1.00      1.00        34\n",
            "           5       1.00      1.00      1.00        30\n",
            "           6       0.96      1.00      0.98        27\n",
            "           7       0.92      0.92      0.92        24\n",
            "           8       0.94      0.92      0.93        37\n",
            "\n",
            "    accuracy                           0.98       270\n",
            "   macro avg       0.98      0.98      0.98       270\n",
            "weighted avg       0.98      0.98      0.98       270\n",
            "\n",
            "matriz de confusion: \n",
            " [[32  0  0  0  0  0  0  0  0]\n",
            " [ 0 34  0  0  0  0  1  0  0]\n",
            " [ 0  0 26  0  0  0  0  0  0]\n",
            " [ 0  0  0 25  0  0  0  0  0]\n",
            " [ 0  0  0  0 34  0  0  0  0]\n",
            " [ 0  0  0  0  0 30  0  0  0]\n",
            " [ 0  0  0  0  0  0 27  0  0]\n",
            " [ 0  0  0  0  0  0  0 22  2]\n",
            " [ 0  0  0  1  0  0  0  2 34]]\n"
          ],
          "name": "stdout"
        }
      ]
    },
    {
      "cell_type": "code",
      "metadata": {
        "colab": {
          "base_uri": "https://localhost:8080/"
        },
        "id": "PeN412NXpDmQ",
        "outputId": "521169c0-2b24-4901-8ce2-0e552e353939"
      },
      "source": [
        "from sklearn.neural_network import MLPClassifier\n",
        "\n",
        "model = Pipeline([('scaler', StandardScaler()),('cla',MLPClassifier())])\n",
        "model.fit(x_train,y_train.ravel())\n",
        "\n",
        "print('Train score: ', model.score(x_train, y_train))\n",
        "print('Test score: ', model.score(x_test, y_test))\n",
        "\n",
        "resultados(model,x_test,y_test)"
      ],
      "execution_count": null,
      "outputs": [
        {
          "output_type": "stream",
          "text": [
            "Train score:  0.9880658436213992\n",
            "Test score:  0.9814814814814815\n",
            "Metricas: \n",
            "               precision    recall  f1-score   support\n",
            "\n",
            "           0       1.00      1.00      1.00        32\n",
            "           1       1.00      0.97      0.99        35\n",
            "           2       1.00      1.00      1.00        26\n",
            "           3       0.96      1.00      0.98        25\n",
            "           4       1.00      1.00      1.00        34\n",
            "           5       1.00      1.00      1.00        30\n",
            "           6       0.96      1.00      0.98        27\n",
            "           7       0.92      0.96      0.94        24\n",
            "           8       0.97      0.92      0.94        37\n",
            "\n",
            "    accuracy                           0.98       270\n",
            "   macro avg       0.98      0.98      0.98       270\n",
            "weighted avg       0.98      0.98      0.98       270\n",
            "\n",
            "matriz de confusion: \n",
            " [[32  0  0  0  0  0  0  0  0]\n",
            " [ 0 34  0  0  0  0  1  0  0]\n",
            " [ 0  0 26  0  0  0  0  0  0]\n",
            " [ 0  0  0 25  0  0  0  0  0]\n",
            " [ 0  0  0  0 34  0  0  0  0]\n",
            " [ 0  0  0  0  0 30  0  0  0]\n",
            " [ 0  0  0  0  0  0 27  0  0]\n",
            " [ 0  0  0  0  0  0  0 23  1]\n",
            " [ 0  0  0  1  0  0  0  2 34]]\n"
          ],
          "name": "stdout"
        },
        {
          "output_type": "stream",
          "text": [
            "/usr/local/lib/python3.7/dist-packages/sklearn/neural_network/_multilayer_perceptron.py:571: ConvergenceWarning: Stochastic Optimizer: Maximum iterations (200) reached and the optimization hasn't converged yet.\n",
            "  % self.max_iter, ConvergenceWarning)\n"
          ],
          "name": "stderr"
        }
      ]
    }
  ]
}